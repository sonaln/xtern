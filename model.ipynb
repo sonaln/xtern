{
 "cells": [
  {
   "cell_type": "code",
   "execution_count": 2,
   "metadata": {},
   "outputs": [],
   "source": [
    "# import respective packages and libraries\n",
    "import numpy as np\n",
    "import pandas as pd\n",
    "import sklearn as sk"
   ]
  },
  {
   "cell_type": "code",
   "execution_count": 3,
   "metadata": {},
   "outputs": [],
   "source": [
    "# load data from csv\n",
    "df = pd.read_csv('xtern_data.csv')"
   ]
  },
  {
   "cell_type": "code",
   "execution_count": 4,
   "metadata": {},
   "outputs": [
    {
     "name": "stdout",
     "output_type": "stream",
     "text": [
      "        Year                    Major                University  Time  \\\n",
      "0     Year 2                  Physics  Indiana State University    12   \n",
      "1     Year 3                Chemistry     Ball State University    14   \n",
      "2     Year 3                Chemistry         Butler University    12   \n",
      "3     Year 2                  Biology  Indiana State University    11   \n",
      "4     Year 3  Business Administration         Butler University    12   \n",
      "...      ...                      ...                       ...   ...   \n",
      "4995  Year 2              Mathematics     Ball State University    11   \n",
      "4996  Year 3                Astronomy  Indiana State University    12   \n",
      "4997  Year 3                Chemistry         Butler University    13   \n",
      "4998  Year 3                Astronomy         Butler University    15   \n",
      "4999  Year 2                Economics  University of Notre Dame    15   \n",
      "\n",
      "                                                  Order  \n",
      "0                                  Fried Catfish Basket  \n",
      "1                                       Sugar Cream Pie  \n",
      "2                                    Indiana Pork Chili  \n",
      "3                                  Fried Catfish Basket  \n",
      "4     Indiana Corn on the Cob (brushed with garlic b...  \n",
      "...                                                 ...  \n",
      "4995                   Breaded Pork Tenderloin Sandwich  \n",
      "4996  Ultimate Grilled Cheese Sandwich (with bacon a...  \n",
      "4997                                    Sugar Cream Pie  \n",
      "4998                                    Sugar Cream Pie  \n",
      "4999                   Breaded Pork Tenderloin Sandwich  \n",
      "\n",
      "[5000 rows x 5 columns]\n"
     ]
    }
   ],
   "source": [
    "print(df)"
   ]
  }
 ],
 "metadata": {
  "kernelspec": {
   "display_name": "base",
   "language": "python",
   "name": "python3"
  },
  "language_info": {
   "codemirror_mode": {
    "name": "ipython",
    "version": 3
   },
   "file_extension": ".py",
   "mimetype": "text/x-python",
   "name": "python",
   "nbconvert_exporter": "python",
   "pygments_lexer": "ipython3",
   "version": "3.10.12"
  }
 },
 "nbformat": 4,
 "nbformat_minor": 2
}
